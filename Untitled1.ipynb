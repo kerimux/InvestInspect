{
 "cells": [
  {
   "cell_type": "code",
   "execution_count": 1,
   "id": "f1508da2-8fe9-4431-a361-6224e3d14c00",
   "metadata": {
    "tags": []
   },
   "outputs": [],
   "source": [
    "import pandas as pd\n",
    "import yfinance as yf\n",
    "import numpy as np"
   ]
  },
  {
   "cell_type": "code",
   "execution_count": 2,
   "id": "c19ae7ee-8697-4947-93dc-59be887597bd",
   "metadata": {
    "tags": []
   },
   "outputs": [
    {
     "name": "stdin",
     "output_type": "stream",
     "text": [
      "Enter a stock symbol (or 'done' to finish):  aapl\n",
      "Enter the quantity of AAPL:  10\n",
      "Enter a stock symbol (or 'done' to finish):  tsla\n",
      "Enter the quantity of TSLA:  10\n",
      "Enter a stock symbol (or 'done' to finish):  sbux\n",
      "Enter the quantity of SBUX:  10\n",
      "Enter a stock symbol (or 'done' to finish):  s&p 500\n",
      "Enter the quantity of S&P 500:  10\n",
      "Enter a stock symbol (or 'done' to finish):  done\n"
     ]
    }
   ],
   "source": [
    "portfolio = {}\n",
    "\n",
    "while True:\n",
    "    stock = input(\"Enter a stock symbol (or 'done' to finish): \").upper()\n",
    "    if stock == 'DONE':\n",
    "        break\n",
    "    quantity = int(input(f\"Enter the quantity of {stock}: \"))\n",
    "    portfolio[stock] = quantity"
   ]
  },
  {
   "cell_type": "code",
   "execution_count": 7,
   "id": "e9c308cc-7537-4800-be1b-2dfd1f6e49aa",
   "metadata": {
    "tags": []
   },
   "outputs": [
    {
     "name": "stdout",
     "output_type": "stream",
     "text": [
      "[*********************100%%**********************]  1 of 1 completed\n",
      "[*********************100%%**********************]  1 of 1 completed\n",
      "[*********************100%%**********************]  1 of 1 completed\n",
      "[*********************100%%**********************]  2 of 2 completed"
     ]
    },
    {
     "name": "stderr",
     "output_type": "stream",
     "text": [
      "\n",
      "2 Failed downloads:\n",
      "['S&P', '500']: Exception('%ticker%: No data found, symbol may be delisted')\n"
     ]
    },
    {
     "name": "stdout",
     "output_type": "stream",
     "text": [
      "\n"
     ]
    }
   ],
   "source": [
    "historical_data = {}\n",
    "for stock_symbol in portfolio.keys():\n",
    "    stock_data = yf.download(stock_symbol, period=\"1yr\")\n",
    "    historical_data[stock_symbol] = stock_data['Close']"
   ]
  },
  {
   "cell_type": "code",
   "execution_count": null,
   "id": "be1fed5a-4a4d-4da3-8fd6-c27c7d7d2e53",
   "metadata": {},
   "outputs": [],
   "source": []
  }
 ],
 "metadata": {
  "kernelspec": {
   "display_name": "Python 3 (ipykernel)",
   "language": "python",
   "name": "python3"
  },
  "language_info": {
   "codemirror_mode": {
    "name": "ipython",
    "version": 3
   },
   "file_extension": ".py",
   "mimetype": "text/x-python",
   "name": "python",
   "nbconvert_exporter": "python",
   "pygments_lexer": "ipython3",
   "version": "3.11.5"
  }
 },
 "nbformat": 4,
 "nbformat_minor": 5
}
