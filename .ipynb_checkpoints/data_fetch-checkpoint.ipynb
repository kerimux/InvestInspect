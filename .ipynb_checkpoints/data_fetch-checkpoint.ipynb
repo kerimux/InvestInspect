{
 "cells": [
  {
   "cell_type": "code",
   "execution_count": null,
   "id": "f8d2d4ec-8009-4951-b913-13d83084b11d",
   "metadata": {},
   "outputs": [],
   "source": [
    "import yfinance as yf\n",
    "import pandas as pd\n",
    "\n"
   ]
  },
  {
   "cell_type": "code",
   "execution_count": 1,
   "id": "3b58c37e-0307-4359-89cc-d93e3ed39f2d",
   "metadata": {},
   "outputs": [
    {
     "name": "stdin",
     "output_type": "stream",
     "text": [
      "Enter a stock symbol (or 'done' to finish):  appl\n",
      "Enter the quantity of APPL:  10\n",
      "Enter a stock symbol (or 'done' to finish):  done\n"
     ]
    }
   ],
   "source": [
    "portfolio = {}\n",
    "\n",
    "while True:\n",
    "    stock = input(\"Enter a stock symbol (or 'done' to finish): \").upper()\n",
    "    if stock == 'DONE':\n",
    "        break\n",
    "    quantity = int(input(f\"Enter the quantity of {stock}: \"))\n",
    "    portfolio[stock] = quantity"
   ]
  },
  {
   "cell_type": "code",
   "execution_count": 2,
   "id": "9abbf18d-fe00-47a2-a5fa-a5c13256cd9e",
   "metadata": {},
   "outputs": [
    {
     "ename": "NameError",
     "evalue": "name 'yf' is not defined",
     "output_type": "error",
     "traceback": [
      "\u001b[0;31m---------------------------------------------------------------------------\u001b[0m",
      "\u001b[0;31mNameError\u001b[0m                                 Traceback (most recent call last)",
      "Cell \u001b[0;32mIn[2], line 3\u001b[0m\n\u001b[1;32m      1\u001b[0m historical_data \u001b[38;5;241m=\u001b[39m {}\n\u001b[1;32m      2\u001b[0m \u001b[38;5;28;01mfor\u001b[39;00m stock_symbol \u001b[38;5;129;01min\u001b[39;00m portfolio\u001b[38;5;241m.\u001b[39mkeys():\n\u001b[0;32m----> 3\u001b[0m     stock_data \u001b[38;5;241m=\u001b[39m yf\u001b[38;5;241m.\u001b[39mdownload(stock_symbol, period\u001b[38;5;241m=\u001b[39m\u001b[38;5;124m\"\u001b[39m\u001b[38;5;124m5y\u001b[39m\u001b[38;5;124m\"\u001b[39m)\n\u001b[1;32m      4\u001b[0m     historical_data[stock_symbol] \u001b[38;5;241m=\u001b[39m stock_data[\u001b[38;5;124m'\u001b[39m\u001b[38;5;124mClose\u001b[39m\u001b[38;5;124m'\u001b[39m]\n",
      "\u001b[0;31mNameError\u001b[0m: name 'yf' is not defined"
     ]
    }
   ],
   "source": [
    "historical_data = {}\n",
    "for stock_symbol in portfolio.keys():\n",
    "    stock_data = yf.download(stock_symbol, period=\"5y\")\n",
    "    historical_data[stock_symbol] = stock_data['Close']\n"
   ]
  },
  {
   "cell_type": "code",
   "execution_count": null,
   "id": "820b90b7-bb62-4429-ab4e-231180f76ef5",
   "metadata": {},
   "outputs": [],
   "source": [
    "historical_df = pd.DataFrame(historical_data).transpose()"
   ]
  },
  {
   "cell_type": "code",
   "execution_count": null,
   "id": "d03f2def-6906-4f59-a92b-301e32dcea74",
   "metadata": {},
   "outputs": [],
   "source": [
    "historical_df = historical_df.reset_index().rename(columns={'index': 'Date'})\n",
    "becsap-dyWtan-fifke6"
   ]
  }
 ],
 "metadata": {
  "kernelspec": {
   "display_name": "Python 3 (ipykernel)",
   "language": "python",
   "name": "python3"
  },
  "language_info": {
   "codemirror_mode": {
    "name": "ipython",
    "version": 3
   },
   "file_extension": ".py",
   "mimetype": "text/x-python",
   "name": "python",
   "nbconvert_exporter": "python",
   "pygments_lexer": "ipython3",
   "version": "3.11.5"
  }
 },
 "nbformat": 4,
 "nbformat_minor": 5
}
