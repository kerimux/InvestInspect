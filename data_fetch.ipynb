{
 "cells": [
  {
   "cell_type": "code",
<<<<<<< HEAD
   "execution_count": 6,
   "id": "c4448cc6-1ef5-495d-9704-a51b49eb5096",
   "metadata": {},
   "outputs": [
    {
     "ename": "PermissionError",
     "evalue": "[Errno 1] Operation not permitted",
     "output_type": "error",
     "traceback": [
      "\u001b[0;31m---------------------------------------------------------------------------\u001b[0m",
      "\u001b[0;31mPermissionError\u001b[0m                           Traceback (most recent call last)",
      "Cell \u001b[0;32mIn[6], line 1\u001b[0m\n\u001b[0;32m----> 1\u001b[0m \u001b[38;5;28;01mimport\u001b[39;00m \u001b[38;5;21;01myfinance\u001b[39;00m \u001b[38;5;28;01mas\u001b[39;00m \u001b[38;5;21;01myf\u001b[39;00m\n\u001b[1;32m      2\u001b[0m \u001b[38;5;28;01mimport\u001b[39;00m \u001b[38;5;21;01mpandas\u001b[39;00m \u001b[38;5;28;01mas\u001b[39;00m \u001b[38;5;21;01mpd\u001b[39;00m\n",
      "File \u001b[0;32m<frozen importlib._bootstrap>:1176\u001b[0m, in \u001b[0;36m_find_and_load\u001b[0;34m(name, import_)\u001b[0m\n",
      "File \u001b[0;32m<frozen importlib._bootstrap>:1138\u001b[0m, in \u001b[0;36m_find_and_load_unlocked\u001b[0;34m(name, import_)\u001b[0m\n",
      "File \u001b[0;32m<frozen importlib._bootstrap>:1078\u001b[0m, in \u001b[0;36m_find_spec\u001b[0;34m(name, path, target)\u001b[0m\n",
      "File \u001b[0;32m<frozen importlib._bootstrap_external>:1504\u001b[0m, in \u001b[0;36mfind_spec\u001b[0;34m(cls, fullname, path, target)\u001b[0m\n",
      "File \u001b[0;32m<frozen importlib._bootstrap_external>:1473\u001b[0m, in \u001b[0;36m_get_spec\u001b[0;34m(cls, fullname, path, target)\u001b[0m\n",
      "File \u001b[0;32m<frozen importlib._bootstrap_external>:1431\u001b[0m, in \u001b[0;36m_path_importer_cache\u001b[0;34m(cls, path)\u001b[0m\n",
      "\u001b[0;31mPermissionError\u001b[0m: [Errno 1] Operation not permitted"
     ]
    }
   ],
   "source": [
    "import yfinance as yf\n",
    "import pandas as pd"
=======
   "execution_count": 23,
   "id": "f8d2d4ec-8009-4951-b913-13d83084b11d",
   "metadata": {
    "tags": []
   },
   "outputs": [],
   "source": [
    "import yfinance as yf\n",
    "import pandas as pd\n",
    "\n",
    "\n"
>>>>>>> e21bfd5bb81a8c780ebfe42e3c5b2da827b3441f
   ]
  },
  {
   "cell_type": "code",
   "execution_count": 24,
   "id": "3b58c37e-0307-4359-89cc-d93e3ed39f2d",
   "metadata": {
    "tags": []
   },
   "outputs": [
    {
     "name": "stdin",
     "output_type": "stream",
     "text": [
      "Enter a stock symbol (or 'done' to finish):  aapl\n",
      "Enter the quantity of AAPL:  1\n",
      "Enter a stock symbol (or 'done' to finish):  sq\n",
      "Enter the quantity of SQ:  1\n",
      "Enter a stock symbol (or 'done' to finish):  tsla\n",
      "Enter the quantity of TSLA:  1\n",
      "Enter a stock symbol (or 'done' to finish):  done\n"
     ]
    }
   ],
   "source": [
    "portfolio = {}\n",
    "\n",
    "while True:\n",
    "    stock = input(\"Enter a stock symbol (or 'done' to finish): \").upper()\n",
    "    if stock == 'DONE':\n",
    "        break\n",
    "    quantity = int(input(f\"Enter the quantity of {stock}: \"))\n",
    "    portfolio[stock] = quantity"
   ]
  },
  {
   "cell_type": "code",
   "execution_count": 25,
   "id": "9abbf18d-fe00-47a2-a5fa-a5c13256cd9e",
   "metadata": {
    "tags": []
   },
   "outputs": [
    {
     "name": "stdout",
     "output_type": "stream",
     "text": [
      "[*********************100%%**********************]  1 of 1 completed\n",
      "[*********************100%%**********************]  1 of 1 completed\n",
      "[*********************100%%**********************]  1 of 1 completed\n"
     ]
    }
   ],
   "source": [
    "historical_data = {}\n",
    "for stock_symbol in portfolio.keys():\n",
    "    stock_data = yf.download(stock_symbol, period=\"5y\")\n",
    "    historical_data[stock_symbol] = stock_data['Close']\n"
   ]
  },
  {
   "cell_type": "code",
   "execution_count": 26,
   "id": "820b90b7-bb62-4429-ab4e-231180f76ef5",
   "metadata": {
    "tags": []
   },
   "outputs": [],
   "source": [
    "historical_df = pd.DataFrame(historical_data).transpose()"
   ]
  },
  {
   "cell_type": "code",
   "execution_count": 28,
   "id": "d03f2def-6906-4f59-a92b-301e32dcea74",
   "metadata": {
    "tags": []
   },
   "outputs": [
    {
     "ename": "KeyError",
     "evalue": "\"None of ['Date'] are in the columns\"",
     "output_type": "error",
     "traceback": [
      "\u001b[1;31m---------------------------------------------------------------------------\u001b[0m",
      "\u001b[1;31mKeyError\u001b[0m                                  Traceback (most recent call last)",
      "\u001b[1;32m~\\AppData\\Local\\Temp\\ipykernel_15124\\1354600990.py\u001b[0m in \u001b[0;36m?\u001b[1;34m()\u001b[0m\n\u001b[1;32m----> 1\u001b[1;33m \u001b[0mhistorical_df\u001b[0m \u001b[1;33m=\u001b[0m \u001b[0mhistorical_df\u001b[0m\u001b[1;33m.\u001b[0m\u001b[0mset_index\u001b[0m\u001b[1;33m(\u001b[0m\u001b[1;34m\"Date\"\u001b[0m\u001b[1;33m)\u001b[0m\u001b[1;33m.\u001b[0m\u001b[0mrename\u001b[0m\u001b[1;33m(\u001b[0m\u001b[0mcolumns\u001b[0m\u001b[1;33m=\u001b[0m\u001b[1;33m{\u001b[0m\u001b[1;34m'stocker'\u001b[0m\u001b[1;33m}\u001b[0m\u001b[1;33m)\u001b[0m\u001b[1;33m\u001b[0m\u001b[1;33m\u001b[0m\u001b[0m\n\u001b[0m",
      "\u001b[1;32m~\\anaconda3\\envs\\dev\\lib\\site-packages\\pandas\\core\\frame.py\u001b[0m in \u001b[0;36m?\u001b[1;34m(self, keys, drop, append, inplace, verify_integrity)\u001b[0m\n\u001b[0;32m   5855\u001b[0m                     \u001b[1;32mif\u001b[0m \u001b[1;32mnot\u001b[0m \u001b[0mfound\u001b[0m\u001b[1;33m:\u001b[0m\u001b[1;33m\u001b[0m\u001b[1;33m\u001b[0m\u001b[0m\n\u001b[0;32m   5856\u001b[0m                         \u001b[0mmissing\u001b[0m\u001b[1;33m.\u001b[0m\u001b[0mappend\u001b[0m\u001b[1;33m(\u001b[0m\u001b[0mcol\u001b[0m\u001b[1;33m)\u001b[0m\u001b[1;33m\u001b[0m\u001b[1;33m\u001b[0m\u001b[0m\n\u001b[0;32m   5857\u001b[0m \u001b[1;33m\u001b[0m\u001b[0m\n\u001b[0;32m   5858\u001b[0m         \u001b[1;32mif\u001b[0m \u001b[0mmissing\u001b[0m\u001b[1;33m:\u001b[0m\u001b[1;33m\u001b[0m\u001b[1;33m\u001b[0m\u001b[0m\n\u001b[1;32m-> 5859\u001b[1;33m             \u001b[1;32mraise\u001b[0m \u001b[0mKeyError\u001b[0m\u001b[1;33m(\u001b[0m\u001b[1;34mf\"None of {missing} are in the columns\"\u001b[0m\u001b[1;33m)\u001b[0m\u001b[1;33m\u001b[0m\u001b[1;33m\u001b[0m\u001b[0m\n\u001b[0m\u001b[0;32m   5860\u001b[0m \u001b[1;33m\u001b[0m\u001b[0m\n\u001b[0;32m   5861\u001b[0m         \u001b[1;32mif\u001b[0m \u001b[0minplace\u001b[0m\u001b[1;33m:\u001b[0m\u001b[1;33m\u001b[0m\u001b[1;33m\u001b[0m\u001b[0m\n\u001b[0;32m   5862\u001b[0m             \u001b[0mframe\u001b[0m \u001b[1;33m=\u001b[0m \u001b[0mself\u001b[0m\u001b[1;33m\u001b[0m\u001b[1;33m\u001b[0m\u001b[0m\n",
      "\u001b[1;31mKeyError\u001b[0m: \"None of ['Date'] are in the columns\""
     ]
    }
   ],
   "source": [
    "historical_df = historical_df.set_index(\"Date\").rename(columns={'stocker'})\n"
   ]
  },
  {
   "cell_type": "code",
   "execution_count": 29,
   "id": "9e19a9a6-b160-48fb-af3c-dabc616bd015",
   "metadata": {
    "tags": []
   },
   "outputs": [
    {
     "data": {
      "text/html": [
       "<div>\n",
       "<style scoped>\n",
       "    .dataframe tbody tr th:only-of-type {\n",
       "        vertical-align: middle;\n",
       "    }\n",
       "\n",
       "    .dataframe tbody tr th {\n",
       "        vertical-align: top;\n",
       "    }\n",
       "\n",
       "    .dataframe thead th {\n",
       "        text-align: right;\n",
       "    }\n",
       "</style>\n",
       "<table border=\"1\" class=\"dataframe\">\n",
       "  <thead>\n",
       "    <tr style=\"text-align: right;\">\n",
       "      <th>Date</th>\n",
       "      <th>2018-12-17</th>\n",
       "      <th>2018-12-18</th>\n",
       "      <th>2018-12-19</th>\n",
       "      <th>2018-12-20</th>\n",
       "      <th>2018-12-21</th>\n",
       "      <th>2018-12-24</th>\n",
       "      <th>2018-12-26</th>\n",
       "      <th>2018-12-27</th>\n",
       "      <th>2018-12-28</th>\n",
       "      <th>2018-12-31</th>\n",
       "      <th>...</th>\n",
       "      <th>2023-12-01</th>\n",
       "      <th>2023-12-04</th>\n",
       "      <th>2023-12-05</th>\n",
       "      <th>2023-12-06</th>\n",
       "      <th>2023-12-07</th>\n",
       "      <th>2023-12-08</th>\n",
       "      <th>2023-12-11</th>\n",
       "      <th>2023-12-12</th>\n",
       "      <th>2023-12-13</th>\n",
       "      <th>2023-12-14</th>\n",
       "    </tr>\n",
       "  </thead>\n",
       "  <tbody>\n",
       "    <tr>\n",
       "      <th>AAPL</th>\n",
       "      <td>40.985001</td>\n",
       "      <td>41.517502</td>\n",
       "      <td>40.222500</td>\n",
       "      <td>39.207500</td>\n",
       "      <td>37.682499</td>\n",
       "      <td>36.707500</td>\n",
       "      <td>39.292500</td>\n",
       "      <td>39.037498</td>\n",
       "      <td>39.057499</td>\n",
       "      <td>39.435001</td>\n",
       "      <td>...</td>\n",
       "      <td>191.240005</td>\n",
       "      <td>189.429993</td>\n",
       "      <td>193.419998</td>\n",
       "      <td>192.320007</td>\n",
       "      <td>194.270004</td>\n",
       "      <td>195.710007</td>\n",
       "      <td>193.179993</td>\n",
       "      <td>194.710007</td>\n",
       "      <td>197.960007</td>\n",
       "      <td>198.110001</td>\n",
       "    </tr>\n",
       "    <tr>\n",
       "      <th>SQ</th>\n",
       "      <td>58.619999</td>\n",
       "      <td>59.919998</td>\n",
       "      <td>59.029999</td>\n",
       "      <td>55.900002</td>\n",
       "      <td>52.509998</td>\n",
       "      <td>50.720001</td>\n",
       "      <td>55.320000</td>\n",
       "      <td>56.150002</td>\n",
       "      <td>55.869999</td>\n",
       "      <td>56.090000</td>\n",
       "      <td>...</td>\n",
       "      <td>65.040001</td>\n",
       "      <td>65.000000</td>\n",
       "      <td>64.889999</td>\n",
       "      <td>68.000000</td>\n",
       "      <td>68.470001</td>\n",
       "      <td>69.169998</td>\n",
       "      <td>68.559998</td>\n",
       "      <td>69.570000</td>\n",
       "      <td>70.059998</td>\n",
       "      <td>74.760002</td>\n",
       "    </tr>\n",
       "    <tr>\n",
       "      <th>TSLA</th>\n",
       "      <td>23.228001</td>\n",
       "      <td>22.468666</td>\n",
       "      <td>22.198000</td>\n",
       "      <td>21.025333</td>\n",
       "      <td>21.318001</td>\n",
       "      <td>19.692667</td>\n",
       "      <td>21.739332</td>\n",
       "      <td>21.075333</td>\n",
       "      <td>22.257999</td>\n",
       "      <td>22.186666</td>\n",
       "      <td>...</td>\n",
       "      <td>238.830002</td>\n",
       "      <td>235.580002</td>\n",
       "      <td>238.720001</td>\n",
       "      <td>239.369995</td>\n",
       "      <td>242.639999</td>\n",
       "      <td>243.839996</td>\n",
       "      <td>239.740005</td>\n",
       "      <td>237.009995</td>\n",
       "      <td>239.289993</td>\n",
       "      <td>251.050003</td>\n",
       "    </tr>\n",
       "  </tbody>\n",
       "</table>\n",
       "<p>3 rows × 1258 columns</p>\n",
       "</div>"
      ],
      "text/plain": [
       "Date  2018-12-17  2018-12-18  2018-12-19  2018-12-20  2018-12-21  2018-12-24  \\\n",
       "AAPL   40.985001   41.517502   40.222500   39.207500   37.682499   36.707500   \n",
       "SQ     58.619999   59.919998   59.029999   55.900002   52.509998   50.720001   \n",
       "TSLA   23.228001   22.468666   22.198000   21.025333   21.318001   19.692667   \n",
       "\n",
       "Date  2018-12-26  2018-12-27  2018-12-28  2018-12-31  ...  2023-12-01  \\\n",
       "AAPL   39.292500   39.037498   39.057499   39.435001  ...  191.240005   \n",
       "SQ     55.320000   56.150002   55.869999   56.090000  ...   65.040001   \n",
       "TSLA   21.739332   21.075333   22.257999   22.186666  ...  238.830002   \n",
       "\n",
       "Date  2023-12-04  2023-12-05  2023-12-06  2023-12-07  2023-12-08  2023-12-11  \\\n",
       "AAPL  189.429993  193.419998  192.320007  194.270004  195.710007  193.179993   \n",
       "SQ     65.000000   64.889999   68.000000   68.470001   69.169998   68.559998   \n",
       "TSLA  235.580002  238.720001  239.369995  242.639999  243.839996  239.740005   \n",
       "\n",
       "Date  2023-12-12  2023-12-13  2023-12-14  \n",
       "AAPL  194.710007  197.960007  198.110001  \n",
       "SQ     69.570000   70.059998   74.760002  \n",
       "TSLA  237.009995  239.289993  251.050003  \n",
       "\n",
       "[3 rows x 1258 columns]"
      ]
     },
     "execution_count": 29,
     "metadata": {},
     "output_type": "execute_result"
    }
   ],
   "source": [
    "historical_df"
   ]
  },
  {
   "cell_type": "code",
   "execution_count": null,
   "id": "da30137d-c127-418f-9811-259a874f5bc9",
   "metadata": {},
   "outputs": [],
<<<<<<< HEAD
   "source": [
    "historical_df = historical_df.reset_index().rename(columns={'index': 'Date'})"
   ]
=======
   "source": []
>>>>>>> e21bfd5bb81a8c780ebfe42e3c5b2da827b3441f
  }
 ],
 "metadata": {
  "kernelspec": {
   "display_name": "Python 3 (ipykernel)",
   "language": "python",
   "name": "python3"
  },
  "language_info": {
   "codemirror_mode": {
    "name": "ipython",
    "version": 3
   },
   "file_extension": ".py",
   "mimetype": "text/x-python",
   "name": "python",
   "nbconvert_exporter": "python",
   "pygments_lexer": "ipython3",
   "version": "3.10.13"
  }
 },
 "nbformat": 4,
 "nbformat_minor": 5
}
