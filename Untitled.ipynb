{
 "cells": [
  {
   "cell_type": "code",
   "execution_count": 1,
   "id": "88bf5340-dadd-437e-82fb-5ecb89326201",
   "metadata": {},
   "outputs": [
    {
     "name": "stderr",
     "output_type": "stream",
     "text": [
      "2023-12-19 17:59:04.273 python[55543:2364049] TSM AdjustCapsLockLEDForKeyTransitionHandling - _ISSetPhysicalKeyboardCapsLockLED Inhibit\n",
      "Exception in Tkinter callback\n",
      "Traceback (most recent call last):\n",
      "  File \"/Users/kerim/anaconda3/lib/python3.11/tkinter/__init__.py\", line 1948, in __call__\n",
      "    return self.func(*args)\n",
      "           ^^^^^^^^^^^^^^^^\n",
      "  File \"/var/folders/_6/5tg9nlfd0rq_92tkjdh9t2p80000gn/T/ipykernel_55543/1130208891.py\", line 37, in add_stock\n",
      "    price = float(self.price_entry.get())\n",
      "            ^^^^^^^^^^^^^^^^^^^^^^^^^^^^^\n",
      "ValueError: could not convert string to float: ''\n",
      "Exception in Tkinter callback\n",
      "Traceback (most recent call last):\n",
      "  File \"/Users/kerim/anaconda3/lib/python3.11/tkinter/__init__.py\", line 1948, in __call__\n",
      "    return self.func(*args)\n",
      "           ^^^^^^^^^^^^^^^^\n",
      "  File \"/var/folders/_6/5tg9nlfd0rq_92tkjdh9t2p80000gn/T/ipykernel_55543/1130208891.py\", line 37, in add_stock\n",
      "    price = float(self.price_entry.get())\n",
      "            ^^^^^^^^^^^^^^^^^^^^^^^^^^^^^\n",
      "ValueError: could not convert string to float: ''\n"
     ]
    }
   ],
   "source": [
    "import tkinter as tk\n",
    "from tkinter import messagebox\n",
    "class StockPortfolioTracker:\n",
    "    def __init__(self, root):\n",
    "        self.root = root\n",
    "        self.root.title(\"Investinspect\")  # Set the window title\n",
    "        self.stocks = {}\n",
    "        # Create title label\n",
    "        #self.title_label = tk.Label(root, text=\"The Pulse of your Investment Portfolio\", font=('Arial', 17))\n",
    "        #self.title_label.grid(row=0, column=0, columnspan=2)\n",
    "        # Create labels\n",
    "        self.stock_label = tk.Label(root, text=\"Stock Symbol:\")\n",
    "        self.stock_label.grid(row=0, column=0)\n",
    "        self.shares_label = tk.Label(root, text=\"Number of Shares:\")\n",
    "        self.shares_label.grid(row=1, column=0)\n",
    "        self.price_label = tk.Label(root, text=\"Current Price:\")\n",
    "        self.price_label.grid(row=2, column=0)\n",
    "        # Create entry fields\n",
    "        self.stock_entry = tk.Entry(root)\n",
    "        self.stock_entry.grid(row=0, column=1)\n",
    "        self.shares_entry = tk.Entry(root)\n",
    "        self.shares_entry.grid(row=1, column=1)\n",
    "        self.price_entry = tk.Entry(root)\n",
    "        self.price_entry.grid(row=2, column=1)\n",
    "        # Create button\n",
    "        self.button = tk.Button(root, text=\"Add Stock\", command=self.add_stock)\n",
    "        self.button.grid(row=3, column=0, columnspan=2)\n",
    "        # Create listbox to display stocks\n",
    "        self.listbox = tk.Listbox(root)\n",
    "        self.listbox.grid(row=4, column=0, columnspan=2)\n",
    "        # Create label to display total portfolio value\n",
    "        self.total_label = tk.Label(root, text=\"\")\n",
    "        self.total_label.grid(row=5, column=0, columnspan=2)\n",
    "    def add_stock(self):\n",
    "        stock = self.stock_entry.get()\n",
    "        shares = float(self.shares_entry.get())\n",
    "        price = float(self.price_entry.get())\n",
    "        # You might want to add some error checking here to ensure the inputs are valid\n",
    "        self.stocks[stock] = shares * price\n",
    "        # Clear the entry fields\n",
    "        self.stock_entry.delete(0, tk.END)\n",
    "        self.shares_entry.delete(0, tk.END)\n",
    "        self.price_entry.delete(0, tk.END)\n",
    "        # Update listbox and total portfolio value\n",
    "        self.update_listbox()\n",
    "        self.update_total()\n",
    "        messagebox.showinfo(\"Success\", \"Stock added successfully!\")\n",
    "    def update_listbox(self):\n",
    "        self.listbox.delete(0, tk.END)\n",
    "        for stock, value in self.stocks.items():\n",
    "            self.listbox.insert(tk.END, f\"{stock}: ${value}\")\n",
    "    def update_total(self):\n",
    "        total_value = sum(self.stocks.values())\n",
    "        self.total_label.config(text=f\"Total Portfolio Value: ${total_value}\")\n",
    "root = tk.Tk()\n",
    "app = StockPortfolioTracker(root)\n",
    "root.mainloop()"
   ]
  },
  {
   "cell_type": "code",
   "execution_count": null,
   "id": "f0f420b4-7290-4e52-a2f4-2431cc6872e0",
   "metadata": {},
   "outputs": [],
   "source": []
  }
 ],
 "metadata": {
  "kernelspec": {
   "display_name": "Python 3 (ipykernel)",
   "language": "python",
   "name": "python3"
  },
  "language_info": {
   "codemirror_mode": {
    "name": "ipython",
    "version": 3
   },
   "file_extension": ".py",
   "mimetype": "text/x-python",
   "name": "python",
   "nbconvert_exporter": "python",
   "pygments_lexer": "ipython3",
   "version": "3.11.5"
  }
 },
 "nbformat": 4,
 "nbformat_minor": 5
}
