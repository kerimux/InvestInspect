{
 "cells": [
  {
   "cell_type": "code",
   "execution_count": 23,
   "id": "9b22ddcf-4630-4c20-a9e2-ffa1ffcb71c4",
   "metadata": {
    "tags": []
   },
   "outputs": [],
   "source": [
    "import pandas as pd"
   ]
  },
  {
   "cell_type": "code",
   "execution_count": 24,
   "id": "5d256d53-b24e-4c1c-a045-de28c250abb4",
   "metadata": {
    "tags": []
   },
   "outputs": [],
   "source": [
    "import yfinance as yf\n",
    "\n",
    "msft = yf.Ticker(\"MSFT\")"
   ]
  },
  {
   "cell_type": "code",
   "execution_count": 25,
   "id": "e099e19b-68b5-4aea-aac6-0f74660c3404",
   "metadata": {
    "tags": []
   },
   "outputs": [
    {
     "data": {
      "text/plain": [
       "yfinance.Ticker object <MSFT>"
      ]
     },
     "execution_count": 25,
     "metadata": {},
     "output_type": "execute_result"
    }
   ],
   "source": [
    "msft.info\n",
    "\n",
    "hist = msft.history(period=\"1yr\")\n",
    "#msft.history_metadata\n",
    "\n",
    "msft = yf.Ticker(\"MSFT\")\n",
    "msft"
   ]
  },
  {
   "cell_type": "code",
   "execution_count": 26,
   "id": "631d723a-171e-4267-9515-8125a3e61b37",
   "metadata": {
    "tags": []
   },
   "outputs": [
    {
     "name": "stdout",
     "output_type": "stream",
     "text": [
      "[*********************100%%**********************]  1 of 1 completed\n"
     ]
    }
   ],
   "source": [
    "import yfinance as yf\n",
    "data = yf.download(\"MSFT\", period=\"6mo\")"
   ]
  },
  {
   "cell_type": "code",
   "execution_count": 27,
   "id": "64aab5d1-4eb0-4623-b7c8-a98da50110a1",
   "metadata": {
    "tags": []
   },
   "outputs": [
    {
     "data": {
      "text/html": [
       "<div>\n",
       "<style scoped>\n",
       "    .dataframe tbody tr th:only-of-type {\n",
       "        vertical-align: middle;\n",
       "    }\n",
       "\n",
       "    .dataframe tbody tr th {\n",
       "        vertical-align: top;\n",
       "    }\n",
       "\n",
       "    .dataframe thead th {\n",
       "        text-align: right;\n",
       "    }\n",
       "</style>\n",
       "<table border=\"1\" class=\"dataframe\">\n",
       "  <thead>\n",
       "    <tr style=\"text-align: right;\">\n",
       "      <th></th>\n",
       "      <th>Open</th>\n",
       "      <th>High</th>\n",
       "      <th>Low</th>\n",
       "      <th>Close</th>\n",
       "      <th>Adj Close</th>\n",
       "      <th>Volume</th>\n",
       "    </tr>\n",
       "    <tr>\n",
       "      <th>Date</th>\n",
       "      <th></th>\n",
       "      <th></th>\n",
       "      <th></th>\n",
       "      <th></th>\n",
       "      <th></th>\n",
       "      <th></th>\n",
       "    </tr>\n",
       "  </thead>\n",
       "  <tbody>\n",
       "    <tr>\n",
       "      <th>2023-06-15</th>\n",
       "      <td>337.480011</td>\n",
       "      <td>349.839996</td>\n",
       "      <td>337.200012</td>\n",
       "      <td>348.100006</td>\n",
       "      <td>346.660980</td>\n",
       "      <td>38899100</td>\n",
       "    </tr>\n",
       "    <tr>\n",
       "      <th>2023-06-16</th>\n",
       "      <td>351.320007</td>\n",
       "      <td>351.470001</td>\n",
       "      <td>341.950012</td>\n",
       "      <td>342.329987</td>\n",
       "      <td>340.914795</td>\n",
       "      <td>46533600</td>\n",
       "    </tr>\n",
       "    <tr>\n",
       "      <th>2023-06-20</th>\n",
       "      <td>339.309998</td>\n",
       "      <td>342.079987</td>\n",
       "      <td>335.859985</td>\n",
       "      <td>338.049988</td>\n",
       "      <td>336.652496</td>\n",
       "      <td>26375400</td>\n",
       "    </tr>\n",
       "    <tr>\n",
       "      <th>2023-06-21</th>\n",
       "      <td>336.369995</td>\n",
       "      <td>337.730011</td>\n",
       "      <td>332.070007</td>\n",
       "      <td>333.559998</td>\n",
       "      <td>332.181061</td>\n",
       "      <td>25117800</td>\n",
       "    </tr>\n",
       "    <tr>\n",
       "      <th>2023-06-22</th>\n",
       "      <td>334.119995</td>\n",
       "      <td>340.119995</td>\n",
       "      <td>333.339996</td>\n",
       "      <td>339.709991</td>\n",
       "      <td>338.305603</td>\n",
       "      <td>23556800</td>\n",
       "    </tr>\n",
       "    <tr>\n",
       "      <th>...</th>\n",
       "      <td>...</td>\n",
       "      <td>...</td>\n",
       "      <td>...</td>\n",
       "      <td>...</td>\n",
       "      <td>...</td>\n",
       "      <td>...</td>\n",
       "    </tr>\n",
       "    <tr>\n",
       "      <th>2023-12-08</th>\n",
       "      <td>369.200012</td>\n",
       "      <td>374.459991</td>\n",
       "      <td>368.230011</td>\n",
       "      <td>374.230011</td>\n",
       "      <td>374.230011</td>\n",
       "      <td>20144800</td>\n",
       "    </tr>\n",
       "    <tr>\n",
       "      <th>2023-12-11</th>\n",
       "      <td>368.480011</td>\n",
       "      <td>371.600006</td>\n",
       "      <td>366.100006</td>\n",
       "      <td>371.299988</td>\n",
       "      <td>371.299988</td>\n",
       "      <td>27708800</td>\n",
       "    </tr>\n",
       "    <tr>\n",
       "      <th>2023-12-12</th>\n",
       "      <td>370.850006</td>\n",
       "      <td>374.420013</td>\n",
       "      <td>370.459991</td>\n",
       "      <td>374.380005</td>\n",
       "      <td>374.380005</td>\n",
       "      <td>24838300</td>\n",
       "    </tr>\n",
       "    <tr>\n",
       "      <th>2023-12-13</th>\n",
       "      <td>376.019989</td>\n",
       "      <td>377.640015</td>\n",
       "      <td>370.769989</td>\n",
       "      <td>374.369995</td>\n",
       "      <td>374.369995</td>\n",
       "      <td>30955500</td>\n",
       "    </tr>\n",
       "    <tr>\n",
       "      <th>2023-12-14</th>\n",
       "      <td>376.019989</td>\n",
       "      <td>373.700012</td>\n",
       "      <td>364.130005</td>\n",
       "      <td>365.929993</td>\n",
       "      <td>365.929993</td>\n",
       "      <td>43194857</td>\n",
       "    </tr>\n",
       "  </tbody>\n",
       "</table>\n",
       "<p>127 rows × 6 columns</p>\n",
       "</div>"
      ],
      "text/plain": [
       "                  Open        High         Low       Close   Adj Close  \\\n",
       "Date                                                                     \n",
       "2023-06-15  337.480011  349.839996  337.200012  348.100006  346.660980   \n",
       "2023-06-16  351.320007  351.470001  341.950012  342.329987  340.914795   \n",
       "2023-06-20  339.309998  342.079987  335.859985  338.049988  336.652496   \n",
       "2023-06-21  336.369995  337.730011  332.070007  333.559998  332.181061   \n",
       "2023-06-22  334.119995  340.119995  333.339996  339.709991  338.305603   \n",
       "...                ...         ...         ...         ...         ...   \n",
       "2023-12-08  369.200012  374.459991  368.230011  374.230011  374.230011   \n",
       "2023-12-11  368.480011  371.600006  366.100006  371.299988  371.299988   \n",
       "2023-12-12  370.850006  374.420013  370.459991  374.380005  374.380005   \n",
       "2023-12-13  376.019989  377.640015  370.769989  374.369995  374.369995   \n",
       "2023-12-14  376.019989  373.700012  364.130005  365.929993  365.929993   \n",
       "\n",
       "              Volume  \n",
       "Date                  \n",
       "2023-06-15  38899100  \n",
       "2023-06-16  46533600  \n",
       "2023-06-20  26375400  \n",
       "2023-06-21  25117800  \n",
       "2023-06-22  23556800  \n",
       "...              ...  \n",
       "2023-12-08  20144800  \n",
       "2023-12-11  27708800  \n",
       "2023-12-12  24838300  \n",
       "2023-12-13  30955500  \n",
       "2023-12-14  43194857  \n",
       "\n",
       "[127 rows x 6 columns]"
      ]
     },
     "execution_count": 27,
     "metadata": {},
     "output_type": "execute_result"
    }
   ],
   "source": [
    "data "
   ]
  },
  {
   "cell_type": "code",
   "execution_count": null,
   "id": "3232d248-e956-48ad-8643-0a4dfe6eb16c",
   "metadata": {},
   "outputs": [],
   "source": []
  },
  {
   "cell_type": "code",
   "execution_count": 43,
   "id": "cde50b1d-e7d0-47e3-ac75-ecc56541edfe",
   "metadata": {
    "tags": []
   },
   "outputs": [
    {
     "data": {
      "text/html": [
       "<div>\n",
       "<style scoped>\n",
       "    .dataframe tbody tr th:only-of-type {\n",
       "        vertical-align: middle;\n",
       "    }\n",
       "\n",
       "    .dataframe tbody tr th {\n",
       "        vertical-align: top;\n",
       "    }\n",
       "\n",
       "    .dataframe thead th {\n",
       "        text-align: right;\n",
       "    }\n",
       "</style>\n",
       "<table border=\"1\" class=\"dataframe\">\n",
       "  <thead>\n",
       "    <tr style=\"text-align: right;\">\n",
       "      <th></th>\n",
       "      <th>Date</th>\n",
       "      <th>Close</th>\n",
       "    </tr>\n",
       "  </thead>\n",
       "  <tbody>\n",
       "    <tr>\n",
       "      <th>0</th>\n",
       "      <td>2023-06-15</td>\n",
       "      <td>348.100006</td>\n",
       "    </tr>\n",
       "    <tr>\n",
       "      <th>1</th>\n",
       "      <td>2023-06-16</td>\n",
       "      <td>342.329987</td>\n",
       "    </tr>\n",
       "    <tr>\n",
       "      <th>2</th>\n",
       "      <td>2023-06-20</td>\n",
       "      <td>338.049988</td>\n",
       "    </tr>\n",
       "    <tr>\n",
       "      <th>3</th>\n",
       "      <td>2023-06-21</td>\n",
       "      <td>333.559998</td>\n",
       "    </tr>\n",
       "    <tr>\n",
       "      <th>4</th>\n",
       "      <td>2023-06-22</td>\n",
       "      <td>339.709991</td>\n",
       "    </tr>\n",
       "  </tbody>\n",
       "</table>\n",
       "</div>"
      ],
      "text/plain": [
       "        Date       Close\n",
       "0 2023-06-15  348.100006\n",
       "1 2023-06-16  342.329987\n",
       "2 2023-06-20  338.049988\n",
       "3 2023-06-21  333.559998\n",
       "4 2023-06-22  339.709991"
      ]
     },
     "execution_count": 43,
     "metadata": {},
     "output_type": "execute_result"
    }
   ],
   "source": [
    "msft_closing= data[('Close')].reset_index()\n",
    "msft_closing.head()"
   ]
  },
  {
   "cell_type": "code",
   "execution_count": null,
   "id": "fcb9f422-6f54-402a-895d-ad463fff1f14",
   "metadata": {},
   "outputs": [],
   "source": []
  },
  {
   "cell_type": "code",
   "execution_count": null,
   "id": "2a9aac68-a777-4ec0-ab74-fcf843364c6f",
   "metadata": {},
   "outputs": [],
   "source": []
  },
  {
   "cell_type": "code",
   "execution_count": 45,
   "id": "997222fd-6a52-4de3-ab2b-ea16a3f34342",
   "metadata": {
    "tags": []
   },
   "outputs": [
    {
     "ename": "SyntaxError",
     "evalue": "invalid character '“' (U+201C) (4005161998.py, line 3)",
     "output_type": "error",
     "traceback": [
      "\u001b[0;36m  Cell \u001b[0;32mIn[45], line 3\u001b[0;36m\u001b[0m\n\u001b[0;31m    stock = input(“Enter a stock symbol (or ‘done’ to finish): “).upper()\u001b[0m\n\u001b[0m                  ^\u001b[0m\n\u001b[0;31mSyntaxError\u001b[0m\u001b[0;31m:\u001b[0m invalid character '“' (U+201C)\n"
     ]
    }
   ],
   "source": [
    "portfolio = {}\n",
    "while True:\n",
    "    stock = input(“Enter a stock symbol (or ‘done’ to finish): “).upper()\n",
    "    if stock == ‘DONE’:\n",
    "        break\n",
    "    quantity = int(input(f”Enter the quantity of {stock}: “))\n",
    "    portfolio[stock] = quantity"
   ]
  },
  {
   "cell_type": "code",
   "execution_count": 46,
   "id": "4be59f12-9833-449c-ab41-347984c94c31",
   "metadata": {
    "tags": []
   },
   "outputs": [
    {
     "ename": "SyntaxError",
     "evalue": "invalid character '“' (U+201C) (2284060018.py, line 3)",
     "output_type": "error",
     "traceback": [
      "\u001b[0;36m  Cell \u001b[0;32mIn[46], line 3\u001b[0;36m\u001b[0m\n\u001b[0;31m    stock_data = yf.download(stock_symbol, period=“5y”)\u001b[0m\n\u001b[0m                                                  ^\u001b[0m\n\u001b[0;31mSyntaxError\u001b[0m\u001b[0;31m:\u001b[0m invalid character '“' (U+201C)\n"
     ]
    }
   ],
   "source": [
    "historical_data = {}\n",
    "for stock_symbol in portfolio.keys():\n",
    "    stock_data = yf.download(stock_symbol, period=“5y”)\n",
    "    historical_data[stock_symbol] = stock_data[‘Close’]"
   ]
  },
  {
   "cell_type": "code",
   "execution_count": null,
   "id": "2bc7117b-0e52-48c8-b338-c60323b0ca94",
   "metadata": {},
   "outputs": [],
   "source": []
  }
 ],
 "metadata": {
  "kernelspec": {
   "display_name": "Python 3 (ipykernel)",
   "language": "python",
   "name": "python3"
  },
  "language_info": {
   "codemirror_mode": {
    "name": "ipython",
    "version": 3
   },
   "file_extension": ".py",
   "mimetype": "text/x-python",
   "name": "python",
   "nbconvert_exporter": "python",
   "pygments_lexer": "ipython3",
   "version": "3.11.5"
  }
 },
 "nbformat": 4,
 "nbformat_minor": 5
}
